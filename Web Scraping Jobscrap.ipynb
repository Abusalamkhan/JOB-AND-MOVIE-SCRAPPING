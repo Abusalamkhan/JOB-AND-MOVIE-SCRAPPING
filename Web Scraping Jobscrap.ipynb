{
 "cells": [
  {
   "cell_type": "markdown",
   "metadata": {},
   "source": [
    "## Web Scraping"
   ]
  },
  {
   "cell_type": "markdown",
   "metadata": {},
   "source": [
    "If you want to pull large amount of data from website and you want to do it quicky then Web Scraping can be  an important tool to achieve this.\n",
    "\n",
    "Web Scraping is an automated method to extract large amount of data froom website. The data here are un-structured.\n",
    "\n",
    "Web Scraping helps collect these un-structures data and store it in structures from."
   ]
  },
  {
   "cell_type": "markdown",
   "metadata": {},
   "source": [
    "### Document Object Model (DOM)"
   ]
  },
  {
   "cell_type": "markdown",
   "metadata": {},
   "source": [
    "<img src=\"https://www.w3schools.com/js/pic_htmltree.gif\" />"
   ]
  },
  {
   "cell_type": "markdown",
   "metadata": {},
   "source": [
    "#### Installing Libraries"
   ]
  },
  {
   "cell_type": "code",
   "execution_count": 1,
   "metadata": {},
   "outputs": [],
   "source": [
    "#!pip install bs4, requests, scrapy"
   ]
  },
  {
   "cell_type": "code",
   "execution_count": 2,
   "metadata": {},
   "outputs": [],
   "source": [
    "import bs4\n",
    "import requests"
   ]
  },
  {
   "cell_type": "code",
   "execution_count": 3,
   "metadata": {},
   "outputs": [],
   "source": [
    "html_text = requests.get('https://www.timesjobs.com/candidate/job-search.html?searchType=personalizedSearch&from=submit&txtKeywords=python&txtLocation=')"
   ]
  },
  {
   "cell_type": "code",
   "execution_count": 4,
   "metadata": {},
   "outputs": [
    {
     "data": {
      "text/plain": [
       "<Response [200]>"
      ]
     },
     "execution_count": 4,
     "metadata": {},
     "output_type": "execute_result"
    }
   ],
   "source": [
    "html_text"
   ]
  },
  {
   "cell_type": "code",
   "execution_count": 5,
   "metadata": {},
   "outputs": [
    {
     "data": {
      "text/plain": [
       "200"
      ]
     },
     "execution_count": 5,
     "metadata": {},
     "output_type": "execute_result"
    }
   ],
   "source": [
    "html_text.status_code"
   ]
  },
  {
   "cell_type": "code",
   "execution_count": 6,
   "metadata": {},
   "outputs": [],
   "source": [
    "html_content = html_text.text"
   ]
  },
  {
   "cell_type": "code",
   "execution_count": 7,
   "metadata": {},
   "outputs": [
    {
     "data": {
      "text/plain": [
       "str"
      ]
     },
     "execution_count": 7,
     "metadata": {},
     "output_type": "execute_result"
    }
   ],
   "source": [
    "type(html_content)"
   ]
  },
  {
   "cell_type": "code",
   "execution_count": 8,
   "metadata": {},
   "outputs": [],
   "source": [
    "soup = bs4.BeautifulSoup(html_content, 'lxml')"
   ]
  },
  {
   "cell_type": "code",
   "execution_count": 9,
   "metadata": {},
   "outputs": [],
   "source": [
    "#soup"
   ]
  },
  {
   "cell_type": "code",
   "execution_count": 10,
   "metadata": {},
   "outputs": [],
   "source": [
    "jobs = soup.find_all('li', class_='clearfix job-bx wht-shd-bx')"
   ]
  },
  {
   "cell_type": "code",
   "execution_count": 11,
   "metadata": {},
   "outputs": [
    {
     "data": {
      "text/plain": [
       "<li class=\"clearfix job-bx wht-shd-bx\">\n",
       "<header class=\"clearfix\">\n",
       "<!--\n",
       "-->\n",
       "<!-- -->\n",
       "<h2>\n",
       "<a href=\"https://www.timesjobs.com/job-detail/python-surya-informatics-solutions-pvt-ltd-chennai-0-to-3-yrs-jobid-UVlLes58wutzpSvf__PLUS__uAgZw==&amp;source=srp\" onclick=\"logViewUSBT('view','65799390','python  ,  web technologies  ,  linux  ,  mobile  ,  mysql  ,  angularjs  ,  javascript','Chennai','0 - 3','IT Software : Software Products &amp; Services','1' )\" target=\"_blank\">\n",
       "<strong class=\"blkclor\">Python</strong></a> </h2>\n",
       "<h3 class=\"joblist-comp-name\">\n",
       "    Surya Informatics Solutions Pvt. Ltd.\n",
       "    \n",
       "    </h3>\n",
       "</header>\n",
       "<ul class=\"top-jd-dtl clearfix\">\n",
       "<li><i class=\"material-icons\">card_travel</i>0 - 3 yrs</li>\n",
       "<li>\n",
       "<i class=\"material-icons\">location_on</i>\n",
       "<span title=\"Chennai\">Chennai</span>\n",
       "</li>\n",
       "</ul>\n",
       "<ul class=\"list-job-dtl clearfix\">\n",
       "<li>\n",
       "<label>Job Description:</label>\n",
       "POSITION: Python Developer ELIGIBILITY: FRESHERS Your RoleUnderstand requirements and participate in project road map discussions in order to design ,  estimate ,  and deliver... <a href=\"https://www.timesjobs.com/job-detail/python-surya-informatics-solutions-pvt-ltd-chennai-0-to-3-yrs-jobid-UVlLes58wutzpSvf__PLUS__uAgZw==&amp;source=srp\" target=\"_blank\">More Details</a>\n",
       "</li>\n",
       "<li>\n",
       "<label>KeySkills:</label>\n",
       "<span class=\"srp-skills\">\n",
       "<strong class=\"blkclor\">python</strong>  ,  web technologies  ,  linux  ,  mobile  ,  mysql  ,  angularjs  ,  javascript\n",
       "        \n",
       "      </span> </li>\n",
       "<!--\n",
       "            <li>\n",
       "              <i class=\"material-icons\">location_on</i>\n",
       "              Chennai\n",
       "              </li>\n",
       "-->\n",
       "</ul>\n",
       "<div class=\"list-job-bt clearfix\">\n",
       "<div class=\"list-action\">\n",
       "<div class=\"applied-dtl clearfix\" id=\"showPostApplyData_65799390\">\n",
       "<a class=\"waves-effect waves-light btn\" href=\"javascript:callExtJobApply('65799390','adId=UVlLes58wutzpSvf__PLUS__uAgZw==&amp;compName=Career Progress Consultants','TJPFSRP');\" onclick=\"trackClickEvent('View_AND_Apply_SRP','from_srp_externalJobs');logViewUSBT('apply','65799390','python  ,  web technologies  ,  linux  ,  mobile  ,  mysql  ,  angularjs  ,  javascript','Chennai','0 - 3','IT Software : Software Products &amp; Services','1')\">Apply</a>\n",
       "<span class=\"jobs-status clearfix\">\n",
       "<!--\n",
       "       <i class=\"material-icons trnding-up\" title=\"Recently posted job, Recruiter is actively looking for candidates\">check_circle</i>\n",
       "        \n",
       "-->\n",
       "</span>\n",
       "<span class=\"sim-posted\">\n",
       "<span>Posted 6 days ago</span>\n",
       "</span>\n",
       "</div>\n",
       "</div>\n",
       "</div>\n",
       "</li>"
      ]
     },
     "execution_count": 11,
     "metadata": {},
     "output_type": "execute_result"
    }
   ],
   "source": [
    "jobs[0]"
   ]
  },
  {
   "cell_type": "code",
   "execution_count": 12,
   "metadata": {},
   "outputs": [],
   "source": [
    "company_name = jobs[0].find('h3', class_='joblist-comp-name').text.strip()"
   ]
  },
  {
   "cell_type": "code",
   "execution_count": 13,
   "metadata": {},
   "outputs": [
    {
     "data": {
      "text/plain": [
       "'Surya Informatics Solutions Pvt. Ltd.'"
      ]
     },
     "execution_count": 13,
     "metadata": {},
     "output_type": "execute_result"
    }
   ],
   "source": [
    "company_name"
   ]
  },
  {
   "cell_type": "code",
   "execution_count": 14,
   "metadata": {},
   "outputs": [],
   "source": [
    "exp = jobs[0].find('li').text.replace('card_travel','')"
   ]
  },
  {
   "cell_type": "code",
   "execution_count": 15,
   "metadata": {},
   "outputs": [
    {
     "data": {
      "text/plain": [
       "'0 - 3 yrs'"
      ]
     },
     "execution_count": 15,
     "metadata": {},
     "output_type": "execute_result"
    }
   ],
   "source": [
    "exp"
   ]
  },
  {
   "cell_type": "code",
   "execution_count": 16,
   "metadata": {},
   "outputs": [],
   "source": [
    "job_loc = jobs[0].find('span').text"
   ]
  },
  {
   "cell_type": "code",
   "execution_count": 17,
   "metadata": {},
   "outputs": [
    {
     "data": {
      "text/plain": [
       "'Chennai'"
      ]
     },
     "execution_count": 17,
     "metadata": {},
     "output_type": "execute_result"
    }
   ],
   "source": [
    "job_loc"
   ]
  },
  {
   "cell_type": "code",
   "execution_count": 18,
   "metadata": {},
   "outputs": [],
   "source": [
    "job_desc = jobs[0].find('ul', class_='list-job-dtl clearfix').li.text.split('\\n')[2]"
   ]
  },
  {
   "cell_type": "code",
   "execution_count": 19,
   "metadata": {},
   "outputs": [
    {
     "data": {
      "text/plain": [
       "'POSITION: Python Developer ELIGIBILITY: FRESHERS Your RoleUnderstand requirements and participate in project road map discussions in order to design ,  estimate ,  and deliver... More Details'"
      ]
     },
     "execution_count": 19,
     "metadata": {},
     "output_type": "execute_result"
    }
   ],
   "source": [
    "job_desc"
   ]
  },
  {
   "cell_type": "code",
   "execution_count": 20,
   "metadata": {},
   "outputs": [],
   "source": [
    "key_skills = jobs[0].find('span', class_='srp-skills').text.strip()"
   ]
  },
  {
   "cell_type": "code",
   "execution_count": 21,
   "metadata": {},
   "outputs": [
    {
     "data": {
      "text/plain": [
       "'python  ,  web technologies  ,  linux  ,  mobile  ,  mysql  ,  angularjs  ,  javascript'"
      ]
     },
     "execution_count": 21,
     "metadata": {},
     "output_type": "execute_result"
    }
   ],
   "source": [
    "key_skills"
   ]
  },
  {
   "cell_type": "code",
   "execution_count": 22,
   "metadata": {},
   "outputs": [],
   "source": [
    "post_date = jobs[0].find('span', class_='sim-posted').text.strip()"
   ]
  },
  {
   "cell_type": "code",
   "execution_count": 23,
   "metadata": {},
   "outputs": [
    {
     "data": {
      "text/plain": [
       "'Posted 6 days ago'"
      ]
     },
     "execution_count": 23,
     "metadata": {},
     "output_type": "execute_result"
    }
   ],
   "source": [
    "post_date"
   ]
  },
  {
   "cell_type": "code",
   "execution_count": 24,
   "metadata": {},
   "outputs": [],
   "source": [
    "job_desc_link = jobs[0].header.h2.a['href']"
   ]
  },
  {
   "cell_type": "code",
   "execution_count": 25,
   "metadata": {},
   "outputs": [
    {
     "data": {
      "text/plain": [
       "'https://www.timesjobs.com/job-detail/python-surya-informatics-solutions-pvt-ltd-chennai-0-to-3-yrs-jobid-UVlLes58wutzpSvf__PLUS__uAgZw==&source=srp'"
      ]
     },
     "execution_count": 25,
     "metadata": {},
     "output_type": "execute_result"
    }
   ],
   "source": [
    "job_desc_link"
   ]
  },
  {
   "cell_type": "code",
   "execution_count": null,
   "metadata": {},
   "outputs": [],
   "source": []
  },
  {
   "cell_type": "code",
   "execution_count": null,
   "metadata": {},
   "outputs": [],
   "source": []
  },
  {
   "cell_type": "code",
   "execution_count": 26,
   "metadata": {},
   "outputs": [],
   "source": [
    "url = 'https://www.timesjobs.com/candidate/job-search.html?searchType=personalizedSearch&from=submit&txtKeywords=python&txtLocation='"
   ]
  },
  {
   "cell_type": "code",
   "execution_count": 27,
   "metadata": {},
   "outputs": [],
   "source": [
    "def find_jobs(url):\n",
    "    html_text = requests.get(url)\n",
    "    html_content = html_text.text\n",
    "    soup = bs4.BeautifulSoup(html_content, 'lxml')\n",
    "    jobs = soup.find_all('li', class_='clearfix job-bx wht-shd-bx')\n",
    "    job_lists = []\n",
    "    for job in jobs:\n",
    "        company_name = job.find('h3', class_='joblist-comp-name').text.strip()\n",
    "        exp = job.find('li').text.replace('card_travel','')\n",
    "        job_loc = job.find('span').text\n",
    "        job_desc = job.find('ul', class_='list-job-dtl clearfix').li.text.split('\\n')[2]\n",
    "        key_skills = job.find('span', class_='srp-skills').text.strip()\n",
    "        post_date = job.find('span', class_='sim-posted').text.strip()\n",
    "        job_desc_link = job.header.h2.a['href']\n",
    "        \n",
    "        job_dict = {\n",
    "            'Company Name':company_name,\n",
    "            'Experience':exp,\n",
    "            'Job Location':job_loc,\n",
    "            'Job Description':job_desc,\n",
    "            'Key Skills':key_skills,\n",
    "            'Post Date':post_date,\n",
    "            'Job Link':job_desc_link\n",
    "        }\n",
    "        job_lists.append(job_dict)\n",
    "    return job_lists"
   ]
  },
  {
   "cell_type": "code",
   "execution_count": 28,
   "metadata": {},
   "outputs": [
    {
     "data": {
      "text/plain": [
       "{'Company Name': 'Surya Informatics Solutions Pvt. Ltd.',\n",
       " 'Experience': '0 - 3 yrs',\n",
       " 'Job Location': 'Chennai',\n",
       " 'Job Description': 'POSITION: Python Developer ELIGIBILITY: FRESHERS Your RoleUnderstand requirements and participate in project road map discussions in order to design ,  estimate ,  and deliver... More Details',\n",
       " 'Key Skills': 'python  ,  web technologies  ,  linux  ,  mobile  ,  mysql  ,  angularjs  ,  javascript',\n",
       " 'Post Date': 'Posted 6 days ago',\n",
       " 'Job Link': 'https://www.timesjobs.com/job-detail/python-surya-informatics-solutions-pvt-ltd-chennai-0-to-3-yrs-jobid-UVlLes58wutzpSvf__PLUS__uAgZw==&source=srp'}"
      ]
     },
     "execution_count": 28,
     "metadata": {},
     "output_type": "execute_result"
    }
   ],
   "source": [
    "find_jobs(url)[0]"
   ]
  },
  {
   "cell_type": "code",
   "execution_count": 29,
   "metadata": {},
   "outputs": [],
   "source": [
    "import pandas as pd"
   ]
  },
  {
   "cell_type": "code",
   "execution_count": 30,
   "metadata": {},
   "outputs": [],
   "source": [
    "df = pd.DataFrame(find_jobs(url))"
   ]
  },
  {
   "cell_type": "code",
   "execution_count": 31,
   "metadata": {},
   "outputs": [
    {
     "data": {
      "text/html": [
       "<div>\n",
       "<style scoped>\n",
       "    .dataframe tbody tr th:only-of-type {\n",
       "        vertical-align: middle;\n",
       "    }\n",
       "\n",
       "    .dataframe tbody tr th {\n",
       "        vertical-align: top;\n",
       "    }\n",
       "\n",
       "    .dataframe thead th {\n",
       "        text-align: right;\n",
       "    }\n",
       "</style>\n",
       "<table border=\"1\" class=\"dataframe\">\n",
       "  <thead>\n",
       "    <tr style=\"text-align: right;\">\n",
       "      <th></th>\n",
       "      <th>Company Name</th>\n",
       "      <th>Experience</th>\n",
       "      <th>Job Location</th>\n",
       "      <th>Job Description</th>\n",
       "      <th>Key Skills</th>\n",
       "      <th>Post Date</th>\n",
       "      <th>Job Link</th>\n",
       "    </tr>\n",
       "  </thead>\n",
       "  <tbody>\n",
       "    <tr>\n",
       "      <th>0</th>\n",
       "      <td>Surya Informatics Solutions Pvt. Ltd.</td>\n",
       "      <td>0 - 3 yrs</td>\n",
       "      <td>Chennai</td>\n",
       "      <td>POSITION: Python Developer ELIGIBILITY: FRESHE...</td>\n",
       "      <td>python  ,  web technologies  ,  linux  ,  mobi...</td>\n",
       "      <td>Posted 6 days ago</td>\n",
       "      <td>https://www.timesjobs.com/job-detail/python-su...</td>\n",
       "    </tr>\n",
       "    <tr>\n",
       "      <th>1</th>\n",
       "      <td>Pure Tech Codex Private Limited</td>\n",
       "      <td>2 - 3 yrs</td>\n",
       "      <td>Pune</td>\n",
       "      <td>Job Description: 2 to 3 Years experience in Py...</td>\n",
       "      <td>rest  ,  python  ,  database  ,  django  ,  de...</td>\n",
       "      <td>Posted few days ago</td>\n",
       "      <td>https://www.timesjobs.com/job-detail/python-pu...</td>\n",
       "    </tr>\n",
       "    <tr>\n",
       "      <th>2</th>\n",
       "      <td>Best Infosystems Ltd.\\r\\n     (More Jobs)</td>\n",
       "      <td>5 - 7 yrs</td>\n",
       "      <td>(More Jobs)</td>\n",
       "      <td>Urgent Requirement_PYTHON_Hyderabad_Full-timeJ...</td>\n",
       "      <td>PYTHON  ,  Azure   ,  ML  ,  AFRS  ,  Cognitiv...</td>\n",
       "      <td>Posted a month ago</td>\n",
       "      <td>https://www.timesjobs.com/job-detail/python-be...</td>\n",
       "    </tr>\n",
       "    <tr>\n",
       "      <th>3</th>\n",
       "      <td>Gemini Solutions</td>\n",
       "      <td>4 - 7 yrs</td>\n",
       "      <td>Gurgaon</td>\n",
       "      <td>4  Years GurgaonB.TechRequired Skills 4   year...</td>\n",
       "      <td>python  ,  mobile  ,  svn  ,  nosql  ,  python...</td>\n",
       "      <td>Posted few days ago</td>\n",
       "      <td>https://www.timesjobs.com/job-detail/qa-python...</td>\n",
       "    </tr>\n",
       "    <tr>\n",
       "      <th>4</th>\n",
       "      <td>CONNECTING 2 WORK</td>\n",
       "      <td>0 - 3 yrs</td>\n",
       "      <td>Calicut/ Kozhikode</td>\n",
       "      <td>Job Description We are looking for candidates ...</td>\n",
       "      <td>rest  ,  python  ,  django  ,  mongodb</td>\n",
       "      <td>Posted 1 day ago</td>\n",
       "      <td>https://www.timesjobs.com/job-detail/python-tr...</td>\n",
       "    </tr>\n",
       "    <tr>\n",
       "      <th>5</th>\n",
       "      <td>Techno wise\\r\\n     (More Jobs)</td>\n",
       "      <td>3 - 8 yrs</td>\n",
       "      <td>(More Jobs)</td>\n",
       "      <td>Responsibility: You will develop and extend th...</td>\n",
       "      <td>\"python\"  ,  \"django\"  ,  \"flask\"  ,  \"NLP\"  ,...</td>\n",
       "      <td>Posted few days ago</td>\n",
       "      <td>https://www.timesjobs.com/job-detail/python-de...</td>\n",
       "    </tr>\n",
       "    <tr>\n",
       "      <th>6</th>\n",
       "      <td>LAKSH HUMAN RESOURCE</td>\n",
       "      <td>1 - 3 yrs</td>\n",
       "      <td>Mumbai</td>\n",
       "      <td>Powai ,  Mumbai Python Developer Experience : ...</td>\n",
       "      <td>rest  ,  python  ,  django  ,  git</td>\n",
       "      <td>Posted 5 days ago</td>\n",
       "      <td>https://www.timesjobs.com/job-detail/python-de...</td>\n",
       "    </tr>\n",
       "    <tr>\n",
       "      <th>7</th>\n",
       "      <td>Vishal Consultants\\r\\n     (More Jobs)</td>\n",
       "      <td>2 - 6 yrs</td>\n",
       "      <td>(More Jobs)</td>\n",
       "      <td>Experience and skills inDeveloping Python base...</td>\n",
       "      <td>PYTHON</td>\n",
       "      <td>Posted a month ago</td>\n",
       "      <td>https://www.timesjobs.com/job-detail/python-de...</td>\n",
       "    </tr>\n",
       "    <tr>\n",
       "      <th>8</th>\n",
       "      <td>GS LAB</td>\n",
       "      <td>3 - 5 yrs</td>\n",
       "      <td>Pune</td>\n",
       "      <td>Experience Level : 3 to 5 yearsMust Have Skill...</td>\n",
       "      <td>python  ,  linux  ,  debugging  ,  unix</td>\n",
       "      <td>Posted 6 days ago</td>\n",
       "      <td>https://www.timesjobs.com/job-detail/python-au...</td>\n",
       "    </tr>\n",
       "    <tr>\n",
       "      <th>9</th>\n",
       "      <td>AtoZ Infoway LLP</td>\n",
       "      <td>2 - 5 yrs</td>\n",
       "      <td>Surat</td>\n",
       "      <td>Python DeveloperNumber of Vacancy : 2 Applican...</td>\n",
       "      <td>python  ,  django  ,  html5  ,  javascript</td>\n",
       "      <td>Posted 1 day ago</td>\n",
       "      <td>https://www.timesjobs.com/job-detail/python-de...</td>\n",
       "    </tr>\n",
       "    <tr>\n",
       "      <th>10</th>\n",
       "      <td>zf friedrichshafen -itc</td>\n",
       "      <td>2 - 4 yrs</td>\n",
       "      <td>Hyderabad/Secunderabad</td>\n",
       "      <td>Bachelors / Masters into Electronics or Embedd...</td>\n",
       "      <td>python  ,  information technology  ,   test me...</td>\n",
       "      <td>Posted 1 day ago</td>\n",
       "      <td>https://www.timesjobs.com/job-detail/python-de...</td>\n",
       "    </tr>\n",
       "    <tr>\n",
       "      <th>11</th>\n",
       "      <td>quality thought</td>\n",
       "      <td>2 - 5 yrs</td>\n",
       "      <td>Hyderabad/Secunderabad</td>\n",
       "      <td>Job Description:Contribute to designing and bu...</td>\n",
       "      <td>rest  ,  python  ,  django  ,  information tec...</td>\n",
       "      <td>Posted 2 days ago</td>\n",
       "      <td>https://www.timesjobs.com/job-detail/python-dj...</td>\n",
       "    </tr>\n",
       "    <tr>\n",
       "      <th>12</th>\n",
       "      <td>DREAMAJAX TECHNOLOGIES</td>\n",
       "      <td>4 - 7 yrs</td>\n",
       "      <td>Bengaluru / Bangalore</td>\n",
       "      <td>PYTHON DEVELOPER B.E  /  B.Tech  /  MCA  /  M....</td>\n",
       "      <td>python  ,  django  ,  api  ,  sql  ,  nosql</td>\n",
       "      <td>Posted 2 days ago</td>\n",
       "      <td>https://www.timesjobs.com/job-detail/python-de...</td>\n",
       "    </tr>\n",
       "    <tr>\n",
       "      <th>13</th>\n",
       "      <td>Ivan Infotech Pvt. Ltd.</td>\n",
       "      <td>2 - 5 yrs</td>\n",
       "      <td>Kolkata</td>\n",
       "      <td>We are looking for a Python Developer to join ...</td>\n",
       "      <td>rest  ,  python  ,  security  ,  debugging</td>\n",
       "      <td>Posted few days ago</td>\n",
       "      <td>https://www.timesjobs.com/job-detail/python-de...</td>\n",
       "    </tr>\n",
       "    <tr>\n",
       "      <th>14</th>\n",
       "      <td>crescendo global</td>\n",
       "      <td>4 - 8 yrs</td>\n",
       "      <td>Gurgaon</td>\n",
       "      <td>Creating and deploying RESTful service or writ...</td>\n",
       "      <td>python  ,  devops  ,  big data  ,  nosql</td>\n",
       "      <td>Posted 3 days ago</td>\n",
       "      <td>https://www.timesjobs.com/job-detail/python-az...</td>\n",
       "    </tr>\n",
       "    <tr>\n",
       "      <th>15</th>\n",
       "      <td>TEAMPLUS STAFFING SOLUTION PVT. LTD.</td>\n",
       "      <td>6 - 9 yrs</td>\n",
       "      <td>Pune</td>\n",
       "      <td>IndustryITPrevious Work Experience6 -9 YRSSala...</td>\n",
       "      <td>python  ,  python scripting  ,  shell scriptin...</td>\n",
       "      <td>Posted few days ago</td>\n",
       "      <td>https://www.timesjobs.com/job-detail/python-de...</td>\n",
       "    </tr>\n",
       "    <tr>\n",
       "      <th>16</th>\n",
       "      <td>Gibots</td>\n",
       "      <td>1 - 2 yrs</td>\n",
       "      <td>Pune</td>\n",
       "      <td>Python Developer Exp: 1-2 yearsPuneJob Descrip...</td>\n",
       "      <td>python  ,   elements developed  ,   performanc...</td>\n",
       "      <td>Posted 5 days ago</td>\n",
       "      <td>https://www.timesjobs.com/job-detail/python-de...</td>\n",
       "    </tr>\n",
       "    <tr>\n",
       "      <th>17</th>\n",
       "      <td>Anantha Cyber Tech Pvt Limited</td>\n",
       "      <td>3 - 6 yrs</td>\n",
       "      <td>Hyderabad/Secunderabad</td>\n",
       "      <td>Job title Openings for Python Developer Design...</td>\n",
       "      <td>python  ,  c    ,  c  ,  information technology</td>\n",
       "      <td>Posted 5 days ago</td>\n",
       "      <td>https://www.timesjobs.com/job-detail/python-de...</td>\n",
       "    </tr>\n",
       "    <tr>\n",
       "      <th>18</th>\n",
       "      <td>TandA HR Solutions</td>\n",
       "      <td>3 - 5 yrs</td>\n",
       "      <td>Mohali</td>\n",
       "      <td>Hiring for Python Developer for Females in MNC...</td>\n",
       "      <td>Django framework  ,  Python Developer  ,  core...</td>\n",
       "      <td>Posted few days ago</td>\n",
       "      <td>https://www.timesjobs.com/job-detail/python-de...</td>\n",
       "    </tr>\n",
       "    <tr>\n",
       "      <th>19</th>\n",
       "      <td>Splice Global Services Pvt Ltd</td>\n",
       "      <td>2 - 5 yrs</td>\n",
       "      <td>Gurgaon</td>\n",
       "      <td>Experience : 1 - 5 yearsSkills : OOPS Concept ...</td>\n",
       "      <td>python  ,  django  ,  git  ,  postgresql  ,  o...</td>\n",
       "      <td>Posted today</td>\n",
       "      <td>https://www.timesjobs.com/job-detail/python-de...</td>\n",
       "    </tr>\n",
       "    <tr>\n",
       "      <th>20</th>\n",
       "      <td>east india securities ltd.</td>\n",
       "      <td>2 - 5 yrs</td>\n",
       "      <td>Kolkata</td>\n",
       "      <td>job_description   2  years of experience worki...</td>\n",
       "      <td>python  ,  hadoop  ,  machine learning</td>\n",
       "      <td>Posted few days ago</td>\n",
       "      <td>https://www.timesjobs.com/job-detail/python-en...</td>\n",
       "    </tr>\n",
       "    <tr>\n",
       "      <th>21</th>\n",
       "      <td>Golden Opportunities Pvt Ltd</td>\n",
       "      <td>5 - 8 yrs</td>\n",
       "      <td>Chennai</td>\n",
       "      <td>Client of Golden Opportunities 5 - 8yrsChennai...</td>\n",
       "      <td>python  ,  information technology  ,  sql</td>\n",
       "      <td>Posted few days ago</td>\n",
       "      <td>https://www.timesjobs.com/job-detail/python-de...</td>\n",
       "    </tr>\n",
       "    <tr>\n",
       "      <th>22</th>\n",
       "      <td>sjain ventures</td>\n",
       "      <td>0 - 3 yrs</td>\n",
       "      <td>Raipur</td>\n",
       "      <td>Python intern A Python Web Developer is respon...</td>\n",
       "      <td>python  ,  web developer  ,  web services</td>\n",
       "      <td>Posted few days ago</td>\n",
       "      <td>https://www.timesjobs.com/job-detail/python-in...</td>\n",
       "    </tr>\n",
       "    <tr>\n",
       "      <th>23</th>\n",
       "      <td>Datagrid Solutions</td>\n",
       "      <td>2 - 3 yrs</td>\n",
       "      <td>Mumbai</td>\n",
       "      <td>Write well designed and optimized codeContribu...</td>\n",
       "      <td>python  ,  database  ,  django  ,  mysql  ,  api</td>\n",
       "      <td>Posted few days ago</td>\n",
       "      <td>https://www.timesjobs.com/job-detail/python-de...</td>\n",
       "    </tr>\n",
       "    <tr>\n",
       "      <th>24</th>\n",
       "      <td>systango</td>\n",
       "      <td>5 - 8 yrs</td>\n",
       "      <td>Indore</td>\n",
       "      <td>Job Description Develop a web-based applicatio...</td>\n",
       "      <td>python  ,  django  ,  javascript  ,  web progr...</td>\n",
       "      <td>Posted few days ago</td>\n",
       "      <td>https://www.timesjobs.com/job-detail/python-de...</td>\n",
       "    </tr>\n",
       "  </tbody>\n",
       "</table>\n",
       "</div>"
      ],
      "text/plain": [
       "                                 Company Name Experience  \\\n",
       "0       Surya Informatics Solutions Pvt. Ltd.  0 - 3 yrs   \n",
       "1             Pure Tech Codex Private Limited  2 - 3 yrs   \n",
       "2   Best Infosystems Ltd.\\r\\n     (More Jobs)  5 - 7 yrs   \n",
       "3                            Gemini Solutions  4 - 7 yrs   \n",
       "4                           CONNECTING 2 WORK  0 - 3 yrs   \n",
       "5             Techno wise\\r\\n     (More Jobs)  3 - 8 yrs   \n",
       "6                        LAKSH HUMAN RESOURCE  1 - 3 yrs   \n",
       "7      Vishal Consultants\\r\\n     (More Jobs)  2 - 6 yrs   \n",
       "8                                      GS LAB  3 - 5 yrs   \n",
       "9                            AtoZ Infoway LLP  2 - 5 yrs   \n",
       "10                    zf friedrichshafen -itc  2 - 4 yrs   \n",
       "11                            quality thought  2 - 5 yrs   \n",
       "12                     DREAMAJAX TECHNOLOGIES  4 - 7 yrs   \n",
       "13                    Ivan Infotech Pvt. Ltd.  2 - 5 yrs   \n",
       "14                           crescendo global  4 - 8 yrs   \n",
       "15       TEAMPLUS STAFFING SOLUTION PVT. LTD.  6 - 9 yrs   \n",
       "16                                     Gibots  1 - 2 yrs   \n",
       "17             Anantha Cyber Tech Pvt Limited  3 - 6 yrs   \n",
       "18                         TandA HR Solutions  3 - 5 yrs   \n",
       "19             Splice Global Services Pvt Ltd  2 - 5 yrs   \n",
       "20                 east india securities ltd.  2 - 5 yrs   \n",
       "21               Golden Opportunities Pvt Ltd  5 - 8 yrs   \n",
       "22                             sjain ventures  0 - 3 yrs   \n",
       "23                         Datagrid Solutions  2 - 3 yrs   \n",
       "24                                   systango  5 - 8 yrs   \n",
       "\n",
       "              Job Location                                    Job Description  \\\n",
       "0                  Chennai  POSITION: Python Developer ELIGIBILITY: FRESHE...   \n",
       "1                     Pune  Job Description: 2 to 3 Years experience in Py...   \n",
       "2             (More Jobs)   Urgent Requirement_PYTHON_Hyderabad_Full-timeJ...   \n",
       "3                  Gurgaon  4  Years GurgaonB.TechRequired Skills 4   year...   \n",
       "4       Calicut/ Kozhikode  Job Description We are looking for candidates ...   \n",
       "5             (More Jobs)   Responsibility: You will develop and extend th...   \n",
       "6                   Mumbai  Powai ,  Mumbai Python Developer Experience : ...   \n",
       "7             (More Jobs)   Experience and skills inDeveloping Python base...   \n",
       "8                     Pune  Experience Level : 3 to 5 yearsMust Have Skill...   \n",
       "9                    Surat  Python DeveloperNumber of Vacancy : 2 Applican...   \n",
       "10  Hyderabad/Secunderabad  Bachelors / Masters into Electronics or Embedd...   \n",
       "11  Hyderabad/Secunderabad  Job Description:Contribute to designing and bu...   \n",
       "12   Bengaluru / Bangalore  PYTHON DEVELOPER B.E  /  B.Tech  /  MCA  /  M....   \n",
       "13                 Kolkata  We are looking for a Python Developer to join ...   \n",
       "14                 Gurgaon  Creating and deploying RESTful service or writ...   \n",
       "15                    Pune  IndustryITPrevious Work Experience6 -9 YRSSala...   \n",
       "16                    Pune  Python Developer Exp: 1-2 yearsPuneJob Descrip...   \n",
       "17  Hyderabad/Secunderabad  Job title Openings for Python Developer Design...   \n",
       "18                  Mohali  Hiring for Python Developer for Females in MNC...   \n",
       "19                 Gurgaon  Experience : 1 - 5 yearsSkills : OOPS Concept ...   \n",
       "20                 Kolkata  job_description   2  years of experience worki...   \n",
       "21                 Chennai  Client of Golden Opportunities 5 - 8yrsChennai...   \n",
       "22                  Raipur  Python intern A Python Web Developer is respon...   \n",
       "23                  Mumbai  Write well designed and optimized codeContribu...   \n",
       "24                  Indore  Job Description Develop a web-based applicatio...   \n",
       "\n",
       "                                           Key Skills            Post Date  \\\n",
       "0   python  ,  web technologies  ,  linux  ,  mobi...    Posted 6 days ago   \n",
       "1   rest  ,  python  ,  database  ,  django  ,  de...  Posted few days ago   \n",
       "2   PYTHON  ,  Azure   ,  ML  ,  AFRS  ,  Cognitiv...   Posted a month ago   \n",
       "3   python  ,  mobile  ,  svn  ,  nosql  ,  python...  Posted few days ago   \n",
       "4              rest  ,  python  ,  django  ,  mongodb     Posted 1 day ago   \n",
       "5   \"python\"  ,  \"django\"  ,  \"flask\"  ,  \"NLP\"  ,...  Posted few days ago   \n",
       "6                  rest  ,  python  ,  django  ,  git    Posted 5 days ago   \n",
       "7                                              PYTHON   Posted a month ago   \n",
       "8             python  ,  linux  ,  debugging  ,  unix    Posted 6 days ago   \n",
       "9          python  ,  django  ,  html5  ,  javascript     Posted 1 day ago   \n",
       "10  python  ,  information technology  ,   test me...     Posted 1 day ago   \n",
       "11  rest  ,  python  ,  django  ,  information tec...    Posted 2 days ago   \n",
       "12        python  ,  django  ,  api  ,  sql  ,  nosql    Posted 2 days ago   \n",
       "13         rest  ,  python  ,  security  ,  debugging  Posted few days ago   \n",
       "14           python  ,  devops  ,  big data  ,  nosql    Posted 3 days ago   \n",
       "15  python  ,  python scripting  ,  shell scriptin...  Posted few days ago   \n",
       "16  python  ,   elements developed  ,   performanc...    Posted 5 days ago   \n",
       "17    python  ,  c    ,  c  ,  information technology    Posted 5 days ago   \n",
       "18  Django framework  ,  Python Developer  ,  core...  Posted few days ago   \n",
       "19  python  ,  django  ,  git  ,  postgresql  ,  o...         Posted today   \n",
       "20             python  ,  hadoop  ,  machine learning  Posted few days ago   \n",
       "21          python  ,  information technology  ,  sql  Posted few days ago   \n",
       "22          python  ,  web developer  ,  web services  Posted few days ago   \n",
       "23   python  ,  database  ,  django  ,  mysql  ,  api  Posted few days ago   \n",
       "24  python  ,  django  ,  javascript  ,  web progr...  Posted few days ago   \n",
       "\n",
       "                                             Job Link  \n",
       "0   https://www.timesjobs.com/job-detail/python-su...  \n",
       "1   https://www.timesjobs.com/job-detail/python-pu...  \n",
       "2   https://www.timesjobs.com/job-detail/python-be...  \n",
       "3   https://www.timesjobs.com/job-detail/qa-python...  \n",
       "4   https://www.timesjobs.com/job-detail/python-tr...  \n",
       "5   https://www.timesjobs.com/job-detail/python-de...  \n",
       "6   https://www.timesjobs.com/job-detail/python-de...  \n",
       "7   https://www.timesjobs.com/job-detail/python-de...  \n",
       "8   https://www.timesjobs.com/job-detail/python-au...  \n",
       "9   https://www.timesjobs.com/job-detail/python-de...  \n",
       "10  https://www.timesjobs.com/job-detail/python-de...  \n",
       "11  https://www.timesjobs.com/job-detail/python-dj...  \n",
       "12  https://www.timesjobs.com/job-detail/python-de...  \n",
       "13  https://www.timesjobs.com/job-detail/python-de...  \n",
       "14  https://www.timesjobs.com/job-detail/python-az...  \n",
       "15  https://www.timesjobs.com/job-detail/python-de...  \n",
       "16  https://www.timesjobs.com/job-detail/python-de...  \n",
       "17  https://www.timesjobs.com/job-detail/python-de...  \n",
       "18  https://www.timesjobs.com/job-detail/python-de...  \n",
       "19  https://www.timesjobs.com/job-detail/python-de...  \n",
       "20  https://www.timesjobs.com/job-detail/python-en...  \n",
       "21  https://www.timesjobs.com/job-detail/python-de...  \n",
       "22  https://www.timesjobs.com/job-detail/python-in...  \n",
       "23  https://www.timesjobs.com/job-detail/python-de...  \n",
       "24  https://www.timesjobs.com/job-detail/python-de...  "
      ]
     },
     "execution_count": 31,
     "metadata": {},
     "output_type": "execute_result"
    }
   ],
   "source": [
    "df"
   ]
  },
  {
   "cell_type": "code",
   "execution_count": 32,
   "metadata": {},
   "outputs": [],
   "source": [
    "df.to_csv('jobs.csv', index=None)"
   ]
  },
  {
   "cell_type": "code",
   "execution_count": 33,
   "metadata": {},
   "outputs": [],
   "source": [
    "#-------------*---------------------------------*---------------------------------*----------------------------------#"
   ]
  }
 ],
 "metadata": {
  "kernelspec": {
   "display_name": "Python 3",
   "language": "python",
   "name": "python3"
  },
  "language_info": {
   "codemirror_mode": {
    "name": "ipython",
    "version": 3
   },
   "file_extension": ".py",
   "mimetype": "text/x-python",
   "name": "python",
   "nbconvert_exporter": "python",
   "pygments_lexer": "ipython3",
   "version": "3.8.5"
  }
 },
 "nbformat": 4,
 "nbformat_minor": 5
}
